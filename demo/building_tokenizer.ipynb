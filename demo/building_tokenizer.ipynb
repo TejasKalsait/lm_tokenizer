{
 "cells": [
  {
   "cell_type": "markdown",
   "metadata": {},
   "source": [
    "# Building Tokenizer"
   ]
  },
  {
   "cell_type": "code",
   "execution_count": 15,
   "metadata": {},
   "outputs": [
    {
     "name": "stdout",
     "output_type": "stream",
     "text": [
      "36\n"
     ]
    }
   ],
   "source": [
    "test_str = \"मराठीमध्ये टाइप करा 🫣 Tejas Kalsait\"\n",
    "print(len(test_str))"
   ]
  },
  {
   "cell_type": "code",
   "execution_count": 30,
   "metadata": {},
   "outputs": [
    {
     "data": {
      "text/plain": [
       "73"
      ]
     },
     "execution_count": 30,
     "metadata": {},
     "output_type": "execute_result"
    }
   ],
   "source": [
    "len(list(test_str.encode(\"utf-8\")))"
   ]
  },
  {
   "cell_type": "code",
   "execution_count": 29,
   "metadata": {},
   "outputs": [
    {
     "name": "stdout",
     "output_type": "stream",
     "text": [
      "b'\\xe0\\xa4\\xae'\n"
     ]
    },
    {
     "data": {
      "text/plain": [
       "'\\x00'"
      ]
     },
     "execution_count": 29,
     "metadata": {},
     "output_type": "execute_result"
    }
   ],
   "source": [
    "print(\"म\".encode(\"utf-8\"))\n",
    "chr(0)"
   ]
  },
  {
   "cell_type": "markdown",
   "metadata": {},
   "source": [
    "## Byte Pairing Algorithm"
   ]
  },
  {
   "cell_type": "code",
   "execution_count": 48,
   "metadata": {},
   "outputs": [
    {
     "data": {
      "text/plain": [
       "367"
      ]
     },
     "execution_count": 48,
     "metadata": {},
     "output_type": "execute_result"
    }
   ],
   "source": [
    "# Input string\n",
    "test_str = \"The quick brown 🦊 (fox) jumps over 13 lazy 犬 (dogs). In a serene village by the Ἀγορά (Agora), Мария (Maria) and अर्जुन (Arjun) discuss the intricacies of Πυθαγόρειο Θεώρημα (Pythagorean Theorem). Meanwhile, under a 蓝色 (blue) sky, 孫悟空 (Sun Wukong) embarks on his journey towards the west, reciting poems in فارسی (Farsi) and reflecting on the Zen principle of 無 (Mu).\"\n",
    "len(test_str)"
   ]
  },
  {
   "cell_type": "code",
   "execution_count": 58,
   "metadata": {},
   "outputs": [
    {
     "data": {
      "text/plain": [
       "429"
      ]
     },
     "execution_count": 58,
     "metadata": {},
     "output_type": "execute_result"
    }
   ],
   "source": [
    "# UTF-8 encoding and converting to integer          # By default the vocab size becomes 255 (0->maps to an element, 255-> maps to another element )\n",
    "tokens = test_str.encode(\"utf-8\")\n",
    "toekens = list(map(int, tokens))\n",
    "len(tokens)"
   ]
  },
  {
   "cell_type": "code",
   "execution_count": 62,
   "metadata": {},
   "outputs": [
    {
     "data": {
      "text/plain": [
       "{(84, 104): 2,\n",
       " (104, 101): 6,\n",
       " (101, 32): 8,\n",
       " (32, 113): 1,\n",
       " (113, 117): 1,\n",
       " (117, 105): 1,\n",
       " (105, 99): 2,\n",
       " (99, 107): 1,\n",
       " (107, 32): 1,\n",
       " (32, 98): 2,\n",
       " (98, 114): 1,\n",
       " (114, 111): 1,\n",
       " (111, 119): 2,\n",
       " (119, 110): 1,\n",
       " (110, 32): 8,\n",
       " (32, 240): 1,\n",
       " (240, 159): 1,\n",
       " (159, 166): 1,\n",
       " (166, 138): 1,\n",
       " (138, 32): 1,\n",
       " (32, 40): 10,\n",
       " (40, 102): 1,\n",
       " (102, 111): 1,\n",
       " (111, 120): 1,\n",
       " (120, 41): 1,\n",
       " (41, 32): 6,\n",
       " (32, 106): 2,\n",
       " (106, 117): 2,\n",
       " (117, 109): 1,\n",
       " (109, 112): 1,\n",
       " (112, 115): 1,\n",
       " (115, 32): 7,\n",
       " (32, 111): 5,\n",
       " (111, 118): 1,\n",
       " (118, 101): 1,\n",
       " (101, 114): 3,\n",
       " (114, 32): 2,\n",
       " (32, 49): 1,\n",
       " (49, 51): 1,\n",
       " (51, 32): 1,\n",
       " (32, 108): 1,\n",
       " (108, 97): 2,\n",
       " (97, 122): 1,\n",
       " (122, 121): 1,\n",
       " (121, 32): 3,\n",
       " (32, 231): 2,\n",
       " (231, 138): 1,\n",
       " (138, 172): 1,\n",
       " (172, 32): 2,\n",
       " (40, 100): 1,\n",
       " (100, 111): 1,\n",
       " (111, 103): 1,\n",
       " (103, 115): 1,\n",
       " (115, 41): 1,\n",
       " (41, 46): 3,\n",
       " (46, 32): 2,\n",
       " (32, 73): 1,\n",
       " (73, 110): 1,\n",
       " (32, 97): 4,\n",
       " (97, 32): 2,\n",
       " (32, 115): 2,\n",
       " (115, 101): 1,\n",
       " (114, 101): 5,\n",
       " (101, 110): 2,\n",
       " (110, 101): 2,\n",
       " (32, 118): 1,\n",
       " (118, 105): 1,\n",
       " (105, 108): 2,\n",
       " (108, 108): 1,\n",
       " (97, 103): 2,\n",
       " (103, 101): 1,\n",
       " (98, 121): 1,\n",
       " (32, 116): 5,\n",
       " (116, 104): 5,\n",
       " (32, 225): 1,\n",
       " (225, 188): 1,\n",
       " (188, 136): 1,\n",
       " (136, 206): 1,\n",
       " (206, 179): 2,\n",
       " (179, 206): 1,\n",
       " (206, 191): 2,\n",
       " (191, 207): 1,\n",
       " (207, 129): 3,\n",
       " (129, 206): 3,\n",
       " (206, 172): 1,\n",
       " (40, 65): 2,\n",
       " (65, 103): 1,\n",
       " (103, 111): 2,\n",
       " (111, 114): 3,\n",
       " (114, 97): 1,\n",
       " (97, 41): 2,\n",
       " (41, 44): 1,\n",
       " (44, 32): 4,\n",
       " (32, 208): 1,\n",
       " (208, 156): 1,\n",
       " (156, 208): 1,\n",
       " (208, 176): 1,\n",
       " (176, 209): 1,\n",
       " (209, 128): 1,\n",
       " (128, 208): 1,\n",
       " (208, 184): 1,\n",
       " (184, 209): 1,\n",
       " (209, 143): 1,\n",
       " (143, 32): 1,\n",
       " (40, 77): 2,\n",
       " (77, 97): 1,\n",
       " (97, 114): 4,\n",
       " (114, 105): 3,\n",
       " (105, 97): 1,\n",
       " (97, 110): 4,\n",
       " (110, 100): 3,\n",
       " (100, 32): 2,\n",
       " (32, 224): 1,\n",
       " (224, 164): 4,\n",
       " (164, 133): 1,\n",
       " (133, 224): 1,\n",
       " (164, 176): 1,\n",
       " (176, 224): 1,\n",
       " (224, 165): 2,\n",
       " (165, 141): 1,\n",
       " (141, 224): 1,\n",
       " (164, 156): 1,\n",
       " (156, 224): 1,\n",
       " (165, 129): 1,\n",
       " (129, 224): 1,\n",
       " (164, 168): 1,\n",
       " (168, 32): 1,\n",
       " (65, 114): 1,\n",
       " (114, 106): 1,\n",
       " (117, 110): 3,\n",
       " (110, 41): 1,\n",
       " (32, 100): 1,\n",
       " (100, 105): 1,\n",
       " (105, 115): 2,\n",
       " (115, 99): 1,\n",
       " (99, 117): 1,\n",
       " (117, 115): 1,\n",
       " (115, 115): 1,\n",
       " (32, 105): 2,\n",
       " (105, 110): 5,\n",
       " (110, 116): 1,\n",
       " (116, 114): 1,\n",
       " (99, 97): 1,\n",
       " (97, 99): 1,\n",
       " (99, 105): 3,\n",
       " (105, 101): 1,\n",
       " (101, 115): 2,\n",
       " (111, 102): 2,\n",
       " (102, 32): 2,\n",
       " (32, 206): 2,\n",
       " (206, 160): 1,\n",
       " (160, 207): 1,\n",
       " (207, 133): 1,\n",
       " (133, 206): 1,\n",
       " (206, 184): 1,\n",
       " (184, 206): 1,\n",
       " (206, 177): 2,\n",
       " (177, 206): 1,\n",
       " (179, 207): 1,\n",
       " (207, 140): 1,\n",
       " (140, 207): 1,\n",
       " (206, 181): 2,\n",
       " (181, 206): 1,\n",
       " (206, 185): 1,\n",
       " (185, 206): 1,\n",
       " (191, 32): 1,\n",
       " (206, 152): 1,\n",
       " (152, 206): 1,\n",
       " (181, 207): 1,\n",
       " (207, 142): 1,\n",
       " (142, 207): 1,\n",
       " (206, 183): 1,\n",
       " (183, 206): 1,\n",
       " (206, 188): 1,\n",
       " (188, 206): 1,\n",
       " (177, 32): 1,\n",
       " (40, 80): 1,\n",
       " (80, 121): 1,\n",
       " (121, 116): 1,\n",
       " (104, 97): 1,\n",
       " (101, 97): 2,\n",
       " (32, 84): 1,\n",
       " (101, 111): 1,\n",
       " (101, 109): 3,\n",
       " (109, 41): 1,\n",
       " (32, 77): 1,\n",
       " (77, 101): 1,\n",
       " (110, 119): 1,\n",
       " (119, 104): 1,\n",
       " (104, 105): 2,\n",
       " (108, 101): 3,\n",
       " (101, 44): 1,\n",
       " (32, 117): 1,\n",
       " (100, 101): 1,\n",
       " (32, 232): 1,\n",
       " (232, 147): 1,\n",
       " (147, 157): 1,\n",
       " (157, 232): 1,\n",
       " (232, 137): 1,\n",
       " (137, 178): 1,\n",
       " (178, 32): 1,\n",
       " (40, 98): 1,\n",
       " (98, 108): 1,\n",
       " (108, 117): 1,\n",
       " (117, 101): 1,\n",
       " (101, 41): 1,\n",
       " (115, 107): 1,\n",
       " (107, 121): 1,\n",
       " (121, 44): 1,\n",
       " (32, 229): 1,\n",
       " (229, 173): 1,\n",
       " (173, 171): 1,\n",
       " (171, 230): 1,\n",
       " (230, 130): 1,\n",
       " (130, 159): 1,\n",
       " (159, 231): 1,\n",
       " (231, 169): 1,\n",
       " (169, 186): 1,\n",
       " (186, 32): 1,\n",
       " (40, 83): 1,\n",
       " (83, 117): 1,\n",
       " (32, 87): 1,\n",
       " (87, 117): 1,\n",
       " (117, 107): 1,\n",
       " (107, 111): 1,\n",
       " (111, 110): 3,\n",
       " (110, 103): 3,\n",
       " (103, 41): 1,\n",
       " (32, 101): 1,\n",
       " (109, 98): 1,\n",
       " (98, 97): 1,\n",
       " (114, 107): 1,\n",
       " (107, 115): 1,\n",
       " (32, 104): 1,\n",
       " (106, 111): 1,\n",
       " (111, 117): 1,\n",
       " (117, 114): 1,\n",
       " (114, 110): 1,\n",
       " (101, 121): 1,\n",
       " (116, 111): 1,\n",
       " (119, 97): 1,\n",
       " (114, 100): 1,\n",
       " (100, 115): 1,\n",
       " (32, 119): 1,\n",
       " (119, 101): 1,\n",
       " (115, 116): 1,\n",
       " (116, 44): 1,\n",
       " (32, 114): 2,\n",
       " (101, 99): 2,\n",
       " (105, 116): 1,\n",
       " (116, 105): 2,\n",
       " (103, 32): 2,\n",
       " (32, 112): 2,\n",
       " (112, 111): 1,\n",
       " (111, 101): 1,\n",
       " (109, 115): 1,\n",
       " (32, 217): 1,\n",
       " (217, 129): 1,\n",
       " (129, 216): 1,\n",
       " (216, 167): 1,\n",
       " (167, 216): 1,\n",
       " (216, 177): 1,\n",
       " (177, 216): 1,\n",
       " (216, 179): 1,\n",
       " (179, 219): 1,\n",
       " (219, 140): 1,\n",
       " (140, 32): 1,\n",
       " (40, 70): 1,\n",
       " (70, 97): 1,\n",
       " (114, 115): 1,\n",
       " (115, 105): 1,\n",
       " (105, 41): 1,\n",
       " (101, 102): 1,\n",
       " (102, 108): 1,\n",
       " (99, 116): 1,\n",
       " (32, 90): 1,\n",
       " (90, 101): 1,\n",
       " (112, 114): 1,\n",
       " (110, 99): 1,\n",
       " (105, 112): 1,\n",
       " (112, 108): 1,\n",
       " (231, 132): 1,\n",
       " (132, 161): 1,\n",
       " (161, 32): 1,\n",
       " (77, 117): 1,\n",
       " (117, 41): 1}"
      ]
     },
     "execution_count": 62,
     "metadata": {},
     "output_type": "execute_result"
    }
   ],
   "source": [
    "# Returns a historgram dict of counts of pairs of tokens\n",
    "# k -> (int1, int2)\n",
    "# v -> count int\n",
    "def count_token_pairs(unicode):\n",
    "    pairs_count = {}\n",
    "    for i1, i2 in zip(unicode[0:], unicode[1:]):\n",
    "        pairs_count[(i1, i2)] = pairs_count.get((i1, i2), 0) + 1\n",
    "    return pairs_count\n",
    "    #return sorted(((v, k) for k, v in pairs_count.items()), reverse = True)\n",
    "\n",
    "token_pairs_dict = count_token_pairs(tokens)\n",
    "token_pairs_dict"
   ]
  },
  {
   "cell_type": "code",
   "execution_count": 65,
   "metadata": {},
   "outputs": [
    {
     "data": {
      "text/plain": [
       "(32, 40)"
      ]
     },
     "execution_count": 65,
     "metadata": {},
     "output_type": "execute_result"
    }
   ],
   "source": [
    "top_pair = max(token_pairs_dict, key = token_pairs_dict.get)\n",
    "top_pair"
   ]
  },
  {
   "cell_type": "code",
   "execution_count": 69,
   "metadata": {},
   "outputs": [],
   "source": [
    "def merge(tokens: list, pair:tuple, id:int):\n",
    "    '''\n",
    "    return -> tokens list where pair is replaced with id\n",
    "    '''\n",
    "    merged_list = []\n",
    "    i = 0\n",
    "    while i < len(tokens):\n",
    "        if tokens[i] == pair[0] and tokens[i+1] == pair[1] and i < len(tokens) - 1:\n",
    "            # Merge\n",
    "            merged_list.append(id)\n",
    "            i += 2\n",
    "        else:\n",
    "            merged_list.append(tokens[i])\n",
    "            i += 1\n",
    "\n",
    "    return merged_list\n",
    "\n",
    "toy = merge([1, 2, 3, 3, 5, 3, 3, 4], (3, 3), -1)\n",
    "#print(toy)"
   ]
  },
  {
   "cell_type": "code",
   "execution_count": 78,
   "metadata": {},
   "outputs": [
    {
     "name": "stdout",
     "output_type": "stream",
     "text": [
      "merging (32, 40) into a new token 256\n",
      "merging (101, 32) into a new token 257\n",
      "merging (110, 32) into a new token 258\n",
      "merging (115, 32) into a new token 259\n",
      "merging (41, 32) into a new token 260\n",
      "merging (104, 257) into a new token 261\n",
      "merging (114, 101) into a new token 262\n",
      "merging (116, 261) into a new token 263\n",
      "merging (44, 32) into a new token 264\n",
      "merging (97, 114) into a new token 265\n"
     ]
    }
   ],
   "source": [
    "# Making tokenizer\n",
    "\n",
    "# Input string and encoding to utf-8 list\n",
    "test_str = \"The quick brown 🦊 (fox) jumps over 13 lazy 犬 (dogs). In a serene village by the Ἀγορά (Agora), Мария (Maria) and अर्जुन (Arjun) discuss the intricacies of Πυθαγόρειο Θεώρημα (Pythagorean Theorem). Meanwhile, under a 蓝色 (blue) sky, 孫悟空 (Sun Wukong) embarks on his journey towards the west, reciting poems in فارسی (Farsi) and reflecting on the Zen principle of 無 (Mu).\"\n",
    "tokens = test_str.encode(\"utf-8\")\n",
    "tokens = list(map(int, tokens))\n",
    "\n",
    "vocab_size = 266\n",
    "num_merges = vocab_size - 256\n",
    "\n",
    "merges = {}\n",
    "\n",
    "for i in range(num_merges):\n",
    "    tokens_pairs = count_token_pairs(tokens)\n",
    "    top_pair = max(tokens_pairs, key = tokens_pairs.get)\n",
    "    id = 256 + i\n",
    "    print(f\"merging {top_pair} into a new token {id}\")\n",
    "    tokens = merge(tokens, top_pair, id)\n",
    "    merges[top_pair] = id"
   ]
  },
  {
   "cell_type": "code",
   "execution_count": 79,
   "metadata": {},
   "outputs": [
    {
     "data": {
      "text/plain": [
       "1.1657608695652173"
      ]
     },
     "execution_count": 79,
     "metadata": {},
     "output_type": "execute_result"
    }
   ],
   "source": [
    "# Compression Ratio\n",
    "429 / len(tokens)"
   ]
  },
  {
   "cell_type": "code",
   "execution_count": 90,
   "metadata": {},
   "outputs": [],
   "source": [
    "vocab = {idx: bytes([idx]) for idx in range(256)}\n",
    "for (p0, p1), idx in merges.items():\n",
    "    vocab[idx] = vocab[p0] + vocab[p1]\n",
    "\n",
    "def encode(text):\n",
    "  # given a string, return list of integers (the tokens)\n",
    "  tokens = list(text.encode(\"utf-8\"))\n",
    "  while len(tokens) >= 2:\n",
    "    stats = count_token_pairs(tokens)\n",
    "    pair = min(stats, key=lambda p: merges.get(p, float(\"inf\")))\n",
    "    if pair not in merges:\n",
    "      break # nothing else can be merged\n",
    "    idx = merges[pair]\n",
    "    tokens = merge(tokens, pair, idx)\n",
    "  return tokens\n",
    "\n",
    "# Given a list of tokens in range [0, vocab_size], return the text\n",
    "def decode(token_list):\n",
    "    tokens = b\"\".join(vocab[idx] for idx in token_list)\n",
    "    text = tokens.decode(\"utf-8\", errors = 'replace')\n",
    "    return text\n"
   ]
  },
  {
   "cell_type": "code",
   "execution_count": 95,
   "metadata": {},
   "outputs": [
    {
     "name": "stdout",
     "output_type": "stream",
     "text": [
      "13 lazy 犬 (dogs)\n"
     ]
    }
   ],
   "source": [
    "print(decode(encode(\"13 lazy 犬 (dogs)\")))"
   ]
  },
  {
   "cell_type": "markdown",
   "metadata": {},
   "source": [
    "# REGEX"
   ]
  }
 ],
 "metadata": {
  "kernelspec": {
   "display_name": "Python 3",
   "language": "python",
   "name": "python3"
  },
  "language_info": {
   "codemirror_mode": {
    "name": "ipython",
    "version": 3
   },
   "file_extension": ".py",
   "mimetype": "text/x-python",
   "name": "python",
   "nbconvert_exporter": "python",
   "pygments_lexer": "ipython3",
   "version": "3.10.12"
  }
 },
 "nbformat": 4,
 "nbformat_minor": 2
}
